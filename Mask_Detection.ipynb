{
 "cells": [
  {
   "cell_type": "code",
   "execution_count": 1,
   "id": "13b038f3",
   "metadata": {},
   "outputs": [],
   "source": [
    "import numpy as np\n",
    "\n",
    "import cv2"
   ]
  },
  {
   "cell_type": "code",
   "execution_count": 2,
   "id": "61d7f230",
   "metadata": {},
   "outputs": [],
   "source": [
    "With_Mask = np.load('With_Mask.npy')\n",
    "Without_Mask = np.load('Without_Mask.npy')"
   ]
  },
  {
   "cell_type": "code",
   "execution_count": 3,
   "id": "cea60eca",
   "metadata": {},
   "outputs": [
    {
     "data": {
      "text/plain": [
       "(250, 50, 50, 3)"
      ]
     },
     "execution_count": 3,
     "metadata": {},
     "output_type": "execute_result"
    }
   ],
   "source": [
    "With_Mask.shape"
   ]
  },
  {
   "cell_type": "code",
   "execution_count": 4,
   "id": "1f8d9510",
   "metadata": {},
   "outputs": [
    {
     "data": {
      "text/plain": [
       "(250, 50, 50, 3)"
      ]
     },
     "execution_count": 4,
     "metadata": {},
     "output_type": "execute_result"
    }
   ],
   "source": [
    "Without_Mask.shape\n"
   ]
  },
  {
   "cell_type": "markdown",
   "id": "b3cb2257",
   "metadata": {},
   "source": [
    "# convert 4 dimensional data into two dimension"
   ]
  },
  {
   "cell_type": "code",
   "execution_count": 5,
   "id": "e5a98abf",
   "metadata": {},
   "outputs": [],
   "source": [
    "With_Mask = With_Mask.reshape(250, 50 * 50 * 3)\n",
    "Without_Mask = Without_Mask.reshape(250, 50 * 50 * 3)"
   ]
  },
  {
   "cell_type": "code",
   "execution_count": 6,
   "id": "0acb2f05",
   "metadata": {},
   "outputs": [
    {
     "data": {
      "text/plain": [
       "(250, 7500)"
      ]
     },
     "execution_count": 6,
     "metadata": {},
     "output_type": "execute_result"
    }
   ],
   "source": [
    "With_Mask.shape"
   ]
  },
  {
   "cell_type": "code",
   "execution_count": 7,
   "id": "3c32ab9c",
   "metadata": {},
   "outputs": [
    {
     "data": {
      "text/plain": [
       "(250, 7500)"
      ]
     },
     "execution_count": 7,
     "metadata": {},
     "output_type": "execute_result"
    }
   ],
   "source": [
    "Without_Mask.shape"
   ]
  },
  {
   "cell_type": "code",
   "execution_count": 8,
   "id": "995523ac",
   "metadata": {},
   "outputs": [],
   "source": [
    "X = np.r_[With_Mask , Without_Mask]"
   ]
  },
  {
   "cell_type": "code",
   "execution_count": 9,
   "id": "17595468",
   "metadata": {},
   "outputs": [
    {
     "data": {
      "text/plain": [
       "(500, 7500)"
      ]
     },
     "execution_count": 9,
     "metadata": {},
     "output_type": "execute_result"
    }
   ],
   "source": [
    "X.shape"
   ]
  },
  {
   "cell_type": "code",
   "execution_count": 10,
   "id": "47a21ede",
   "metadata": {},
   "outputs": [],
   "source": [
    "labels = np.zeros(X.shape[0])"
   ]
  },
  {
   "cell_type": "code",
   "execution_count": 11,
   "id": "2fff9ac4",
   "metadata": {},
   "outputs": [],
   "source": [
    "labels[250:] =1.0"
   ]
  },
  {
   "cell_type": "code",
   "execution_count": 12,
   "id": "03db523a",
   "metadata": {},
   "outputs": [],
   "source": [
    "names = {0: 'Mask', 1: 'Without mask'}"
   ]
  },
  {
   "cell_type": "markdown",
   "id": "7ec3a2f0",
   "metadata": {},
   "source": [
    "# Train The Model"
   ]
  },
  {
   "cell_type": "code",
   "execution_count": 13,
   "id": "c290d3e7",
   "metadata": {},
   "outputs": [],
   "source": [
    "from sklearn.svm import SVC\n",
    "from sklearn.metrics import accuracy_score"
   ]
  },
  {
   "cell_type": "code",
   "execution_count": 14,
   "id": "713632b4",
   "metadata": {},
   "outputs": [],
   "source": [
    "from sklearn.model_selection import train_test_split"
   ]
  },
  {
   "cell_type": "code",
   "execution_count": 15,
   "id": "7df699a9",
   "metadata": {},
   "outputs": [],
   "source": [
    "x_train, x_test, y_train, y_test = train_test_split(X,labels,test_size=0.50)"
   ]
  },
  {
   "cell_type": "code",
   "execution_count": 16,
   "id": "44cc1191",
   "metadata": {},
   "outputs": [
    {
     "data": {
      "text/plain": [
       "(250, 7500)"
      ]
     },
     "execution_count": 16,
     "metadata": {},
     "output_type": "execute_result"
    }
   ],
   "source": [
    "x_train.shape"
   ]
  },
  {
   "cell_type": "code",
   "execution_count": 17,
   "id": "ed5a41fe",
   "metadata": {},
   "outputs": [],
   "source": [
    "from sklearn.decomposition import PCA\n"
   ]
  },
  {
   "cell_type": "code",
   "execution_count": 18,
   "id": "a843ad87",
   "metadata": {},
   "outputs": [],
   "source": [
    "pca = PCA(n_components=3)\n",
    "x_train = pca.fit_transform(x_train)\n",
    "x_test = pca.fit_transform(x_test)"
   ]
  },
  {
   "cell_type": "code",
   "execution_count": 19,
   "id": "29c0814e",
   "metadata": {},
   "outputs": [
    {
     "data": {
      "text/plain": [
       "(250, 3)"
      ]
     },
     "execution_count": 19,
     "metadata": {},
     "output_type": "execute_result"
    }
   ],
   "source": [
    "x_train.shape"
   ]
  },
  {
   "cell_type": "code",
   "execution_count": 20,
   "id": "51fe3e50",
   "metadata": {},
   "outputs": [
    {
     "data": {
      "text/html": [
       "<style>#sk-container-id-1 {color: black;background-color: white;}#sk-container-id-1 pre{padding: 0;}#sk-container-id-1 div.sk-toggleable {background-color: white;}#sk-container-id-1 label.sk-toggleable__label {cursor: pointer;display: block;width: 100%;margin-bottom: 0;padding: 0.3em;box-sizing: border-box;text-align: center;}#sk-container-id-1 label.sk-toggleable__label-arrow:before {content: \"▸\";float: left;margin-right: 0.25em;color: #696969;}#sk-container-id-1 label.sk-toggleable__label-arrow:hover:before {color: black;}#sk-container-id-1 div.sk-estimator:hover label.sk-toggleable__label-arrow:before {color: black;}#sk-container-id-1 div.sk-toggleable__content {max-height: 0;max-width: 0;overflow: hidden;text-align: left;background-color: #f0f8ff;}#sk-container-id-1 div.sk-toggleable__content pre {margin: 0.2em;color: black;border-radius: 0.25em;background-color: #f0f8ff;}#sk-container-id-1 input.sk-toggleable__control:checked~div.sk-toggleable__content {max-height: 200px;max-width: 100%;overflow: auto;}#sk-container-id-1 input.sk-toggleable__control:checked~label.sk-toggleable__label-arrow:before {content: \"▾\";}#sk-container-id-1 div.sk-estimator input.sk-toggleable__control:checked~label.sk-toggleable__label {background-color: #d4ebff;}#sk-container-id-1 div.sk-label input.sk-toggleable__control:checked~label.sk-toggleable__label {background-color: #d4ebff;}#sk-container-id-1 input.sk-hidden--visually {border: 0;clip: rect(1px 1px 1px 1px);clip: rect(1px, 1px, 1px, 1px);height: 1px;margin: -1px;overflow: hidden;padding: 0;position: absolute;width: 1px;}#sk-container-id-1 div.sk-estimator {font-family: monospace;background-color: #f0f8ff;border: 1px dotted black;border-radius: 0.25em;box-sizing: border-box;margin-bottom: 0.5em;}#sk-container-id-1 div.sk-estimator:hover {background-color: #d4ebff;}#sk-container-id-1 div.sk-parallel-item::after {content: \"\";width: 100%;border-bottom: 1px solid gray;flex-grow: 1;}#sk-container-id-1 div.sk-label:hover label.sk-toggleable__label {background-color: #d4ebff;}#sk-container-id-1 div.sk-serial::before {content: \"\";position: absolute;border-left: 1px solid gray;box-sizing: border-box;top: 0;bottom: 0;left: 50%;z-index: 0;}#sk-container-id-1 div.sk-serial {display: flex;flex-direction: column;align-items: center;background-color: white;padding-right: 0.2em;padding-left: 0.2em;position: relative;}#sk-container-id-1 div.sk-item {position: relative;z-index: 1;}#sk-container-id-1 div.sk-parallel {display: flex;align-items: stretch;justify-content: center;background-color: white;position: relative;}#sk-container-id-1 div.sk-item::before, #sk-container-id-1 div.sk-parallel-item::before {content: \"\";position: absolute;border-left: 1px solid gray;box-sizing: border-box;top: 0;bottom: 0;left: 50%;z-index: -1;}#sk-container-id-1 div.sk-parallel-item {display: flex;flex-direction: column;z-index: 1;position: relative;background-color: white;}#sk-container-id-1 div.sk-parallel-item:first-child::after {align-self: flex-end;width: 50%;}#sk-container-id-1 div.sk-parallel-item:last-child::after {align-self: flex-start;width: 50%;}#sk-container-id-1 div.sk-parallel-item:only-child::after {width: 0;}#sk-container-id-1 div.sk-dashed-wrapped {border: 1px dashed gray;margin: 0 0.4em 0.5em 0.4em;box-sizing: border-box;padding-bottom: 0.4em;background-color: white;}#sk-container-id-1 div.sk-label label {font-family: monospace;font-weight: bold;display: inline-block;line-height: 1.2em;}#sk-container-id-1 div.sk-label-container {text-align: center;}#sk-container-id-1 div.sk-container {/* jupyter's `normalize.less` sets `[hidden] { display: none; }` but bootstrap.min.css set `[hidden] { display: none !important; }` so we also need the `!important` here to be able to override the default hidden behavior on the sphinx rendered scikit-learn.org. See: https://github.com/scikit-learn/scikit-learn/issues/21755 */display: inline-block !important;position: relative;}#sk-container-id-1 div.sk-text-repr-fallback {display: none;}</style><div id=\"sk-container-id-1\" class=\"sk-top-container\"><div class=\"sk-text-repr-fallback\"><pre>SVC()</pre><b>In a Jupyter environment, please rerun this cell to show the HTML representation or trust the notebook. <br />On GitHub, the HTML representation is unable to render, please try loading this page with nbviewer.org.</b></div><div class=\"sk-container\" hidden><div class=\"sk-item\"><div class=\"sk-estimator sk-toggleable\"><input class=\"sk-toggleable__control sk-hidden--visually\" id=\"sk-estimator-id-1\" type=\"checkbox\" checked><label for=\"sk-estimator-id-1\" class=\"sk-toggleable__label sk-toggleable__label-arrow\">SVC</label><div class=\"sk-toggleable__content\"><pre>SVC()</pre></div></div></div></div></div>"
      ],
      "text/plain": [
       "SVC()"
      ]
     },
     "execution_count": 20,
     "metadata": {},
     "output_type": "execute_result"
    }
   ],
   "source": [
    "svm = SVC()\n",
    "svm.fit(x_train, y_train)"
   ]
  },
  {
   "cell_type": "code",
   "execution_count": 21,
   "id": "28cc005b",
   "metadata": {},
   "outputs": [],
   "source": [
    "#x_test = pca.transform(x_test)\n",
    "y_prediction =svm.predict(x_test)"
   ]
  },
  {
   "cell_type": "code",
   "execution_count": 22,
   "id": "94e5945a",
   "metadata": {},
   "outputs": [
    {
     "data": {
      "text/plain": [
       "1.0"
      ]
     },
     "execution_count": 22,
     "metadata": {},
     "output_type": "execute_result"
    }
   ],
   "source": [
    "accuracy_score(y_test, y_prediction)"
   ]
  },
  {
   "cell_type": "code",
   "execution_count": null,
   "id": "3d057ba8",
   "metadata": {},
   "outputs": [
    {
     "name": "stdout",
     "output_type": "stream",
     "text": [
      "Without mask\n",
      "Without mask\n",
      "Without mask\n",
      "Without mask\n",
      "Without mask\n",
      "Without mask\n",
      "Without mask\n",
      "Without mask\n",
      "Without mask\n",
      "Without mask\n",
      "Without mask\n",
      "Without mask\n",
      "Without mask\n",
      "Without mask\n",
      "Without mask\n",
      "Without mask\n",
      "Without mask\n",
      "Without mask\n",
      "Without mask\n",
      "Without mask\n",
      "Without mask\n",
      "Without mask\n",
      "Without mask\n",
      "Without mask\n",
      "Without mask\n",
      "Without mask\n",
      "Without mask\n",
      "Without mask\n",
      "Without mask\n",
      "Without mask\n",
      "Mask\n",
      "Mask\n",
      "Without mask\n",
      "Without mask\n",
      "Mask\n",
      "Without mask\n",
      "Mask\n",
      "Without mask\n",
      "Mask\n",
      "Without mask\n",
      "Mask\n",
      "Without mask\n",
      "Mask\n",
      "Without mask\n",
      "Mask\n",
      "Mask\n",
      "Mask\n",
      "Mask\n",
      "Mask\n",
      "Mask\n",
      "Mask\n",
      "Mask\n",
      "Mask\n",
      "Mask\n",
      "Mask\n",
      "Without mask\n",
      "Without mask\n",
      "Without mask\n",
      "Without mask\n",
      "Without mask\n",
      "Mask\n",
      "Without mask\n",
      "Mask\n",
      "Without mask\n",
      "Mask\n",
      "Without mask\n",
      "Mask\n",
      "Without mask\n",
      "Mask\n",
      "Without mask\n",
      "Mask\n",
      "Without mask\n",
      "Mask\n",
      "Without mask\n",
      "Mask\n",
      "Without mask\n",
      "Mask\n",
      "Without mask\n",
      "Mask\n",
      "Without mask\n",
      "Mask\n",
      "Without mask\n",
      "Mask\n",
      "Without mask\n",
      "Mask\n",
      "Without mask\n",
      "Mask\n",
      "Without mask\n",
      "Mask\n",
      "Without mask\n",
      "Mask\n",
      "Without mask\n",
      "Mask\n",
      "Without mask\n",
      "Mask\n",
      "Without mask\n",
      "Mask\n",
      "Without mask\n",
      "Mask\n",
      "Without mask\n",
      "Mask\n",
      "Without mask\n",
      "Mask\n",
      "Without mask\n",
      "Mask\n",
      "Without mask\n",
      "Mask\n",
      "Without mask\n",
      "Mask\n",
      "Without mask\n",
      "Mask\n",
      "Without mask\n",
      "Mask\n",
      "Without mask\n",
      "Mask\n",
      "Without mask\n",
      "Mask\n",
      "Without mask\n",
      "Mask\n",
      "Without mask\n",
      "Without mask\n",
      "Without mask\n",
      "Without mask\n",
      "Without mask\n",
      "Without mask\n",
      "Without mask\n",
      "Without mask\n",
      "Without mask\n",
      "Without mask\n",
      "Without mask\n",
      "Without mask\n",
      "Without mask\n",
      "Without mask\n",
      "Without mask\n",
      "Without mask\n",
      "Without mask\n",
      "Without mask\n",
      "Without mask\n",
      "Without mask\n",
      "Without mask\n",
      "Without mask\n",
      "Without mask\n",
      "Without mask\n",
      "Without mask\n",
      "Without mask\n",
      "Without mask\n",
      "Without mask\n",
      "Without mask\n",
      "Without mask\n",
      "Without mask\n",
      "Without mask\n",
      "Without mask\n",
      "Without mask\n",
      "Without mask\n",
      "Without mask\n",
      "Without mask\n",
      "Without mask\n",
      "Without mask\n",
      "Without mask\n",
      "Without mask\n",
      "Without mask\n",
      "Without mask\n",
      "Without mask\n",
      "Without mask\n",
      "Without mask\n",
      "Without mask\n",
      "Without mask\n",
      "Without mask\n",
      "Without mask\n",
      "Without mask\n",
      "Without mask\n",
      "Without mask\n",
      "Without mask\n",
      "Without mask\n",
      "Without mask\n",
      "Without mask\n",
      "Without mask\n",
      "Without mask\n",
      "Without mask\n",
      "Without mask\n",
      "Without mask\n",
      "Without mask\n",
      "Without mask\n",
      "Without mask\n",
      "Without mask\n",
      "Without mask\n",
      "Without mask\n",
      "Without mask\n",
      "Without mask\n",
      "Without mask\n",
      "Without mask\n",
      "Without mask\n",
      "Without mask\n",
      "Without mask\n",
      "Without mask\n",
      "Without mask\n",
      "Without mask\n",
      "Without mask\n",
      "Without mask\n",
      "Without mask\n",
      "Without mask\n",
      "Without mask\n",
      "Mask\n",
      "Mask\n",
      "Mask\n",
      "Mask\n"
     ]
    }
   ],
   "source": [
    "haar_data = cv2.CascadeClassifier('face.xml')\n",
    "capture = cv2.VideoCapture(0)\n",
    "data = []\n",
    "font = cv2.FONT_HERSHEY_COMPLEX\n",
    "while True:\n",
    "    flag , img = capture.read()\n",
    "    if flag:\n",
    "        faces = haar_data.detectMultiScale(img , minNeighbors=10)\n",
    "        for x,y,w,h in faces:\n",
    "            cv2.rectangle(img,(x,y),(x+w,y+h),(255,0,255),4)\n",
    "            face = img[y:y+h, x:x+w, :]\n",
    "            face = cv2.resize(face, (50, 50))\n",
    "            face = face.reshape(1, -1)\n",
    "            face = pca.transform(face)\n",
    "            prediction = svm.predict(face)[0]\n",
    "            n = names[int(prediction)]\n",
    "            cv2.putText(img, n, (x, y), font, 1, (234, 350, 250), 4)\n",
    "            print(n)\n",
    "\n",
    "        cv2.imshow('Mask Detection', img)\n",
    "        if cv2.waitKey(1) == 27:\n",
    "            break\n",
    "            \n",
    "            \n",
    "capture.release()\n",
    "cv2.destroyAllWindows()\n",
    "            "
   ]
  },
  {
   "cell_type": "code",
   "execution_count": null,
   "id": "e837b282",
   "metadata": {},
   "outputs": [],
   "source": []
  },
  {
   "cell_type": "code",
   "execution_count": null,
   "id": "43d58780",
   "metadata": {},
   "outputs": [],
   "source": []
  },
  {
   "cell_type": "code",
   "execution_count": null,
   "id": "c926504d",
   "metadata": {},
   "outputs": [],
   "source": []
  }
 ],
 "metadata": {
  "kernelspec": {
   "display_name": "Python 3 (ipykernel)",
   "language": "python",
   "name": "python3"
  },
  "language_info": {
   "codemirror_mode": {
    "name": "ipython",
    "version": 3
   },
   "file_extension": ".py",
   "mimetype": "text/x-python",
   "name": "python",
   "nbconvert_exporter": "python",
   "pygments_lexer": "ipython3",
   "version": "3.11.3"
  }
 },
 "nbformat": 4,
 "nbformat_minor": 5
}
